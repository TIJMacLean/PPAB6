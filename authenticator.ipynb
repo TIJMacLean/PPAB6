{
 "cells": [
  {
   "cell_type": "code",
   "execution_count": 101,
   "metadata": {},
   "outputs": [],
   "source": [
    "import hashlib\n",
    "import sqlite3"
   ]
  },
  {
   "cell_type": "code",
   "execution_count": 4,
   "metadata": {},
   "outputs": [],
   "source": [
    "def create_connection(db_file):\n",
    "    conn = None\n",
    "    try:\n",
    "        conn = sqlite3.connect(db_file)\n",
    "    except Error as e:\n",
    "        print(e)\n",
    " \n",
    "    return conn"
   ]
  },
  {
   "cell_type": "code",
   "execution_count": 85,
   "metadata": {},
   "outputs": [],
   "source": [
    "def is_valid_dictionary(username, password):\n",
    "    for userCheck in directory:\n",
    "        if username == userCheck and hashlib.sha256(password.encode('utf-8')).hexdigest() == directory[userCheck]:\n",
    "                return True\n",
    "    return False\n",
    "\n",
    "directory = {\n",
    "    \"robert\" : \"ef92b778bafe771e89245b89ecbc08a44a4e166c06659911881f383d4473e94f\",\n",
    "    \"steve\" : \"a493045d35286289acf9c36202f08f61678967607a99eb749744980ad8fc422e\",\n",
    "    \"alice\" : \"9b8769a4a742959a2d0298c36fb70623f2dfacda8436237df08d8dfd5b37374c\"\n",
    "}\n",
    "# robert: password123\n",
    "# steve: otherpassword\n",
    "# alice: pass123"
   ]
  },
  {
   "cell_type": "code",
   "execution_count": 99,
   "metadata": {},
   "outputs": [
    {
     "name": "stdout",
     "output_type": "stream",
     "text": [
      "('robert', 'ef92b778bafe771e89245b89ecbc08a44a4e166c06659911881f383d4473e94f')\n",
      "('steve', 'a493045d35286289acf9c36202f08f61678967607a99eb749744980ad8fc422e')\n",
      "('alice', '9b8769a4a742959a2d0298c36fb70623f2dfacda8436237df08d8dfd5b37374c')\n"
     ]
    }
   ],
   "source": [
    "def is_valid_database(username, password):\n",
    "    \n",
    "    conn = create_connection(\"authentication_test.db\")\n",
    "    cur = conn.cursor()\n",
    "    cur.execute(\"SELECT password FROM users WHERE username == '%s'\" % username)\n",
    "    \n",
    "    try:\n",
    "        row = cur.fetchall()[0]\n",
    "        check = (\"%s\" % row)\n",
    "    except:\n",
    "        return False\n",
    "    \n",
    "    if hashlib.sha256(password.encode('utf-8')).hexdigest() == check:\n",
    "        return True\n",
    "    return False\n",
    "\n",
    "conn = create_connection(\"authentication_test.db\")\n",
    "cur = conn.cursor()\n",
    "\n",
    "cur.execute(\"DELETE FROM users\")\n",
    "conn.commit()\n",
    "cur.execute(\"INSERT INTO users (username, password) VALUES ('robert', 'ef92b778bafe771e89245b89ecbc08a44a4e166c06659911881f383d4473e94f')\")\n",
    "cur.execute(\"INSERT INTO users (username, password) VALUES ('steve', 'a493045d35286289acf9c36202f08f61678967607a99eb749744980ad8fc422e')\")\n",
    "cur.execute(\"INSERT INTO users (username, password) VALUES ('alice', '9b8769a4a742959a2d0298c36fb70623f2dfacda8436237df08d8dfd5b37374c')\")\n",
    "conn.commit()\n",
    "\n",
    "cur.execute(\"SELECT * from users\")\n",
    "rows = cur.fetchall()\n",
    "for row in rows:\n",
    "    print(row)"
   ]
  },
  {
   "cell_type": "code",
   "execution_count": 104,
   "metadata": {},
   "outputs": [
    {
     "name": "stdin",
     "output_type": "stream",
     "text": [
      "Enter your username:  steve\n",
      "Enter your password:  otherpassword\n"
     ]
    },
    {
     "data": {
      "text/plain": [
       "True"
      ]
     },
     "execution_count": 104,
     "metadata": {},
     "output_type": "execute_result"
    }
   ],
   "source": [
    "username = input(\"Enter your username: \")\n",
    "password = input(\"Enter your password: \")\n",
    "is_valid_database(username, password)"
   ]
  }
 ],
 "metadata": {
  "kernelspec": {
   "display_name": "Python 3",
   "language": "python",
   "name": "python3"
  },
  "language_info": {
   "codemirror_mode": {
    "name": "ipython",
    "version": 3
   },
   "file_extension": ".py",
   "mimetype": "text/x-python",
   "name": "python",
   "nbconvert_exporter": "python",
   "pygments_lexer": "ipython3",
   "version": "3.7.6"
  }
 },
 "nbformat": 4,
 "nbformat_minor": 4
}
